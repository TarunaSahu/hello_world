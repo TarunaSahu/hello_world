{
  "nbformat": 4,
  "nbformat_minor": 0,
  "metadata": {
    "colab": {
      "name": "SVRwithgrid.ipynb",
      "provenance": [],
      "collapsed_sections": [],
      "authorship_tag": "ABX9TyMPnhuYveS9xl7QTLqdcJdJ",
      "include_colab_link": true
    },
    "kernelspec": {
      "name": "python3",
      "display_name": "Python 3"
    },
    "language_info": {
      "name": "python"
    }
  },
  "cells": [
    {
      "cell_type": "markdown",
      "metadata": {
        "id": "view-in-github",
        "colab_type": "text"
      },
      "source": [
        "<a href=\"https://colab.research.google.com/github/TarunaSahu/hello_world/blob/main/SVRwithgrid.ipynb\" target=\"_parent\"><img src=\"https://colab.research.google.com/assets/colab-badge.svg\" alt=\"Open In Colab\"/></a>"
      ]
    },
    {
      "cell_type": "code",
      "metadata": {
        "id": "LBZzFKfwIchn"
      },
      "source": [
        "import pandas\n",
        "data=pandas.read_csv(\"longley.csv\")"
      ],
      "execution_count": null,
      "outputs": []
    },
    {
      "cell_type": "code",
      "metadata": {
        "colab": {
          "base_uri": "https://localhost:8080/",
          "height": 206
        },
        "id": "odEN9uohItlU",
        "outputId": "750288b4-3dee-4745-9532-0757807ade57"
      },
      "source": [
        "data.head()"
      ],
      "execution_count": null,
      "outputs": [
        {
          "output_type": "execute_result",
          "data": {
            "text/html": [
              "<div>\n",
              "<style scoped>\n",
              "    .dataframe tbody tr th:only-of-type {\n",
              "        vertical-align: middle;\n",
              "    }\n",
              "\n",
              "    .dataframe tbody tr th {\n",
              "        vertical-align: top;\n",
              "    }\n",
              "\n",
              "    .dataframe thead th {\n",
              "        text-align: right;\n",
              "    }\n",
              "</style>\n",
              "<table border=\"1\" class=\"dataframe\">\n",
              "  <thead>\n",
              "    <tr style=\"text-align: right;\">\n",
              "      <th></th>\n",
              "      <th>GNP.deflator</th>\n",
              "      <th>GNP</th>\n",
              "      <th>Unemployed</th>\n",
              "      <th>Armed.Forces</th>\n",
              "      <th>Population</th>\n",
              "      <th>Year</th>\n",
              "      <th>Employed</th>\n",
              "    </tr>\n",
              "  </thead>\n",
              "  <tbody>\n",
              "    <tr>\n",
              "      <th>0</th>\n",
              "      <td>83.0</td>\n",
              "      <td>234.289</td>\n",
              "      <td>235.6</td>\n",
              "      <td>159.0</td>\n",
              "      <td>107.608</td>\n",
              "      <td>1947</td>\n",
              "      <td>60.323</td>\n",
              "    </tr>\n",
              "    <tr>\n",
              "      <th>1</th>\n",
              "      <td>88.5</td>\n",
              "      <td>259.426</td>\n",
              "      <td>232.5</td>\n",
              "      <td>145.6</td>\n",
              "      <td>108.632</td>\n",
              "      <td>1948</td>\n",
              "      <td>61.122</td>\n",
              "    </tr>\n",
              "    <tr>\n",
              "      <th>2</th>\n",
              "      <td>88.2</td>\n",
              "      <td>258.054</td>\n",
              "      <td>368.2</td>\n",
              "      <td>161.6</td>\n",
              "      <td>109.773</td>\n",
              "      <td>1949</td>\n",
              "      <td>60.171</td>\n",
              "    </tr>\n",
              "    <tr>\n",
              "      <th>3</th>\n",
              "      <td>89.5</td>\n",
              "      <td>284.599</td>\n",
              "      <td>335.1</td>\n",
              "      <td>165.0</td>\n",
              "      <td>110.929</td>\n",
              "      <td>1950</td>\n",
              "      <td>61.187</td>\n",
              "    </tr>\n",
              "    <tr>\n",
              "      <th>4</th>\n",
              "      <td>96.2</td>\n",
              "      <td>328.975</td>\n",
              "      <td>209.9</td>\n",
              "      <td>309.9</td>\n",
              "      <td>112.075</td>\n",
              "      <td>1951</td>\n",
              "      <td>63.221</td>\n",
              "    </tr>\n",
              "  </tbody>\n",
              "</table>\n",
              "</div>"
            ],
            "text/plain": [
              "   GNP.deflator      GNP  Unemployed  Armed.Forces  Population  Year  Employed\n",
              "0          83.0  234.289       235.6         159.0     107.608  1947    60.323\n",
              "1          88.5  259.426       232.5         145.6     108.632  1948    61.122\n",
              "2          88.2  258.054       368.2         161.6     109.773  1949    60.171\n",
              "3          89.5  284.599       335.1         165.0     110.929  1950    61.187\n",
              "4          96.2  328.975       209.9         309.9     112.075  1951    63.221"
            ]
          },
          "metadata": {},
          "execution_count": 2
        }
      ]
    },
    {
      "cell_type": "code",
      "metadata": {
        "id": "AX5SHsxEIw8H"
      },
      "source": [
        "X=data.drop(columns=[\"Employed\"])\n",
        "Y=data[\"Employed\"]"
      ],
      "execution_count": null,
      "outputs": []
    },
    {
      "cell_type": "code",
      "metadata": {
        "id": "uZmetISlJAa_"
      },
      "source": [
        "kernelvalues=['linear','rbf']\n",
        "cvalues=[1,2]\n",
        "grid=dict(C=cvalues,kernel=kernelvalues)"
      ],
      "execution_count": null,
      "outputs": []
    },
    {
      "cell_type": "code",
      "metadata": {
        "id": "AfyMfOGkJKIG"
      },
      "source": [
        "from sklearn.svm import SVR\n"
      ],
      "execution_count": null,
      "outputs": []
    },
    {
      "cell_type": "code",
      "metadata": {
        "id": "JI8zAj_FKQDx"
      },
      "source": [
        "from sklearn.model_selection import GridSearchCV"
      ],
      "execution_count": null,
      "outputs": []
    },
    {
      "cell_type": "code",
      "metadata": {
        "id": "fX82SMS5JgYX"
      },
      "source": [
        "model=SVR()\n",
        "gridmodel=GridSearchCV(estimator=model,param_grid=grid)"
      ],
      "execution_count": null,
      "outputs": []
    },
    {
      "cell_type": "code",
      "metadata": {
        "id": "5So2_tNfJp2c"
      },
      "source": [
        "results=gridmodel.fit(X,Y)"
      ],
      "execution_count": null,
      "outputs": []
    },
    {
      "cell_type": "code",
      "metadata": {
        "colab": {
          "base_uri": "https://localhost:8080/"
        },
        "id": "_Jrd-F42JyL0",
        "outputId": "94854bbe-ca3f-40a3-f734-76aa34b09c97"
      },
      "source": [
        "results.cv_results_"
      ],
      "execution_count": null,
      "outputs": [
        {
          "output_type": "execute_result",
          "data": {
            "text/plain": [
              "{'mean_fit_time': array([0.11064415, 0.00267425, 0.113199  , 0.00242949]),\n",
              " 'mean_score_time': array([0.00282302, 0.00200777, 0.00245395, 0.00187864]),\n",
              " 'mean_test_score': array([ -2.53865522, -69.51288865,  -5.94578081, -66.90730978]),\n",
              " 'param_C': masked_array(data=[1, 1, 2, 2],\n",
              "              mask=[False, False, False, False],\n",
              "        fill_value='?',\n",
              "             dtype=object),\n",
              " 'param_kernel': masked_array(data=['linear', 'rbf', 'linear', 'rbf'],\n",
              "              mask=[False, False, False, False],\n",
              "        fill_value='?',\n",
              "             dtype=object),\n",
              " 'params': [{'C': 1, 'kernel': 'linear'},\n",
              "  {'C': 1, 'kernel': 'rbf'},\n",
              "  {'C': 2, 'kernel': 'linear'},\n",
              "  {'C': 2, 'kernel': 'rbf'}],\n",
              " 'rank_test_score': array([1, 4, 2, 3], dtype=int32),\n",
              " 'split0_test_score': array([  -2.88637792, -194.91391449,   -1.12361364, -189.04460314]),\n",
              " 'split1_test_score': array([  0.71739258, -10.17911502,   0.89038577,  -8.89707781]),\n",
              " 'split2_test_score': array([ 0.85485239, -0.22789018,  0.7782303 , -0.1801488 ]),\n",
              " 'split3_test_score': array([  0.84753094, -17.9808631 ,   0.47375499, -17.1755048 ]),\n",
              " 'split4_test_score': array([ -12.22667411, -124.26266048,  -30.74766145, -119.23921432]),\n",
              " 'std_fit_time': array([3.66373050e-02, 1.12056895e-04, 2.54118152e-02, 9.68504280e-05]),\n",
              " 'std_score_time': array([6.68170524e-05, 6.45866030e-05, 1.36132006e-04, 4.12469930e-05]),\n",
              " 'std_test_score': array([ 5.05099236, 77.07063275, 12.4220974 , 74.76242387])}"
            ]
          },
          "metadata": {},
          "execution_count": 20
        }
      ]
    }
  ]
}